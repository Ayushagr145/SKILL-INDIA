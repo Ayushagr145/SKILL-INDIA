{
  "nbformat": 4,
  "nbformat_minor": 0,
  "metadata": {
    "orig_nbformat": 4,
    "language_info": {
      "name": "python",
      "version": "3.8.5",
      "mimetype": "text/x-python",
      "codemirror_mode": {
        "name": "ipython",
        "version": 3
      },
      "pygments_lexer": "ipython3",
      "nbconvert_exporter": "python",
      "file_extension": ".py"
    },
    "kernelspec": {
      "name": "python3",
      "display_name": "Python 3.8.5 64-bit ('base': conda)"
    },
    "interpreter": {
      "hash": "64fbe09aa140226ebef7b134872e6e66e3d916dbcb74e6f22199975e4c5ac526"
    },
    "colab": {
      "name": "project1 (1).ipynb",
      "provenance": []
    }
  },
  "cells": [
    {
      "cell_type": "code",
      "metadata": {
        "id": "gwDuRVemXJf6"
      },
      "source": [
        "import json\n",
        "import pandas as pd"
      ],
      "execution_count": 3,
      "outputs": []
    },
    {
      "cell_type": "code",
      "metadata": {
        "id": "VmCzDpUiXJf7"
      },
      "source": [
        "fd = open(\"record.json\",'r')\n",
        "r = fd.read()\n",
        "fd.close()\n",
        "record = json.loads(r)"
      ],
      "execution_count": 4,
      "outputs": []
    },
    {
      "cell_type": "code",
      "metadata": {
        "id": "2P_sA3HGXJf8"
      },
      "source": [
        "f = open(\"invoice.json\",'r')\n",
        "b = f.read()\n",
        "f.close()\n",
        "bill = json.loads(b)"
      ],
      "execution_count": 5,
      "outputs": []
    },
    {
      "cell_type": "code",
      "metadata": {
        "id": "Y94hCz_8XJf9"
      },
      "source": [
        "def AddInv():\n",
        "    prod_id = str(input(\"Enter product id:\"))\n",
        "    if prod_id in record.keys():\n",
        "        print(\"Item already exists\")\n",
        "    else:\n",
        "        name = str(input(\"Enter name:\"))\n",
        "        pr = int(input(\"Enter price:\"))\n",
        "        qn = int(input(\"Enter quantity:\"))\n",
        "        record[prod_id] = {'name': name, 'pr': pr, 'qn': qn}\n",
        "        js = json.dumps(record)\n",
        "        fd = open(\"record.json\",'w')\n",
        "        fd.write(js)\n",
        "        fd.close()"
      ],
      "execution_count": 6,
      "outputs": []
    },
    {
      "cell_type": "code",
      "metadata": {
        "id": "yqPcrTp6XJf9"
      },
      "source": [
        "\n",
        "id=0\n",
        "tr_id=0\n",
        "def SaleInv():\n",
        "    ui_prod  = str(input(\"Enter the product_Id: \"))\n",
        "    ui_quant = int(input(\"Enter the quantity: \"))\n",
        "    global id\n",
        "    global tr_id\n",
        "    try:\n",
        "        item=record[ui_prod]\n",
        "        if ui_quant>item['qn']:\n",
        "            raise Exception(\"Item Out of stock\")\n",
        "        else:\n",
        "            print(\"Product: \", record[ui_prod]['name'])\n",
        "            print(\"Price: \", record[ui_prod]['pr'])\n",
        "            print(\"Quantity: \",ui_quant)\n",
        "            print(\"Billing Amount: \", record[ui_prod]['pr'] * ui_quant)\n",
        "            item['qn']=item['qn']-ui_quant\n",
        "            record[ui_prod]=item\n",
        "            d={\"Transaction Id\":tr_id,\"Product\":record[ui_prod]['name'] , \"Price\":record[ui_prod]['pr'] , \"quantity\":ui_quant,\"Billing amount\": record[ui_prod]['pr'] * ui_quant}\n",
        "            bill[id]=d\n",
        "            f=open(\"invoice.json\",'w')\n",
        "            fb=json.dump(bill,f)\n",
        "            f.close()\n",
        "            fd = open(\"record.json\",'w')\n",
        "            js = json.dump(record,fd)\n",
        "            fd.close()\n",
        "            n=input(\"Do you want to exit y/n: \")\n",
        "            if(n=='y' or n=='Y'):\n",
        "                tr_id+=1\n",
        "                exit()\n",
        "            else:\n",
        "                id+=1\n",
        "                SaleInv()\n",
        "    except Exception:\n",
        "        print(\"Item Out of Stock\")\n",
        "        SaleInv()\n"
      ],
      "execution_count": 7,
      "outputs": []
    },
    {
      "cell_type": "code",
      "metadata": {
        "id": "k7985gOzXJf_"
      },
      "source": [
        "def delete():\n",
        "    d=input(\"Enter the product id which you want to delete\")\n",
        "    with open('record.json', 'r') as data_file:\n",
        "        data = json.load(data_file)\n",
        "    del data[d]\n",
        "    with open('record.json', 'w') as data_file:\n",
        "        data = json.dump(data, data_file)\n"
      ],
      "execution_count": 8,
      "outputs": []
    },
    {
      "cell_type": "code",
      "metadata": {
        "id": "VcM11GtcXJgA"
      },
      "source": [
        "def dis():\n",
        "    fd = open(\"record.json\",'r')\n",
        "    r = fd.read()\n",
        "    fd.close()\n",
        "    record = json.loads(r)\n",
        "    df=pd.DataFrame(record)\n",
        "    print(df.T)\n",
        "\n"
      ],
      "execution_count": 9,
      "outputs": []
    },
    {
      "cell_type": "code",
      "metadata": {
        "id": "ZTOJZKu1XJgA"
      },
      "source": [
        "def sale():\n",
        "    f = open(\"invoice.json\",'r')\n",
        "    b = f.read()\n",
        "    f.close()\n",
        "    bil= json.loads(b)\n",
        "    daf=pd.DataFrame(bil)\n",
        "    daf=daf.T\n",
        "    print(daf)\n",
        "    print(\"Total=\",daf['Billing amount'].sum())\n",
        "    "
      ],
      "execution_count": 10,
      "outputs": []
    },
    {
      "cell_type": "code",
      "metadata": {
        "colab": {
          "base_uri": "https://localhost:8080/"
        },
        "id": "QcZo5jzSXJgB",
        "outputId": "0ad791b4-b085-4808-c33d-7ef3c7d9035c"
      },
      "source": [
        "if __name__=='__main__':\n",
        "    print(\"Main Function\")\n",
        "    print(\"1.Press 1 to add new stock in inventory\")\n",
        "    print(\"2.Press 2 to Purchase\")\n",
        "    print(\"3.Press 3 to display the stock\")\n",
        "    print(\"4.Press 4 to delete item from a stock\")\n",
        "    print(\"5 Press 5 to generate the Total sales\")\n",
        "    while(True):\n",
        "        k=int(input(\"Enter your choice\"))\n",
        "        if k==1:\n",
        "            AddInv()\n",
        "        elif k==2:\n",
        "            SaleInv()\n",
        "        elif k==3:\n",
        "            dis()\n",
        "        elif k==4:\n",
        "            delete()\n",
        "        elif k==5:\n",
        "            sale()\n",
        "        else:\n",
        "            print(\"Invalid choice\")\n",
        "        l=input(\"Do you want to perform more operation? Y/N\")\n",
        "        if(l=='n' or l=='N'):\n",
        "            break\n",
        "        else:\n",
        "            continue"
      ],
      "execution_count": 11,
      "outputs": [
        {
          "name": "stdout",
          "output_type": "stream",
          "text": [
            "Main Function\n",
            "1.Press 1 to add new stock in inventory\n",
            "2.Press 2 to Purchase\n",
            "3.Press 3 to display the stock\n",
            "4.Press 4 to delete item from a stock\n",
            "5 Press 5 to generate the Total sales\n",
            "Enter your choice3\n",
            "            name    qn     pr\n",
            "1001  Choco Cake    32    100\n",
            "1002   Milk Cake    83    800\n",
            "1003       Drink   100     85\n",
            "1004       Candy  1000      5\n",
            "1005         Pen    94     20\n",
            "1006       Phone    10  50000\n",
            "1007         Mic     0   1500\n",
            "1008        Case     2    599\n",
            "Do you want to perform more operation? Y/Ny\n",
            "Enter your choice2\n",
            "Enter the product_Id: 1001\n",
            "Enter the quantity: 2\n",
            "Product:  Choco Cake\n",
            "Price:  100\n",
            "Quantity:  2\n",
            "Billing Amount:  200\n",
            "Do you want to exit y/n: n\n",
            "Enter the product_Id: 1002\n",
            "Enter the quantity: 2\n",
            "Product:  Milk Cake\n",
            "Price:  800\n",
            "Quantity:  2\n",
            "Billing Amount:  1600\n",
            "Do you want to exit y/n: n\n",
            "Enter the product_Id: 1005\n",
            "Enter the quantity: 5\n",
            "Product:  Pen\n",
            "Price:  20\n",
            "Quantity:  5\n",
            "Billing Amount:  100\n",
            "Do you want to exit y/n: y\n",
            "Do you want to perform more operation? Y/Ny\n",
            "Enter your choice5\n",
            "            name    qn     pr  ... Price quantity Billing amount\n",
            "1001  Choco Cake    34    100  ...   NaN      NaN            NaN\n",
            "1002   Milk Cake   100    800  ...   NaN      NaN            NaN\n",
            "1003       Drink   100     85  ...   NaN      NaN            NaN\n",
            "1004       Candy  1000      5  ...   NaN      NaN            NaN\n",
            "1005         Pen   100     20  ...   NaN      NaN            NaN\n",
            "1006       Phone    10  50000  ...   NaN      NaN            NaN\n",
            "1007         Mic     0   1500  ...   NaN      NaN            NaN\n",
            "1008        Case     3    599  ...   NaN      NaN            NaN\n",
            "0            NaN   NaN    NaN  ...   100        2            200\n",
            "1            NaN   NaN    NaN  ...   800        2           1600\n",
            "2            NaN   NaN    NaN  ...    20        5            100\n",
            "\n",
            "[11 rows x 8 columns]\n",
            "Total= 1900\n",
            "Do you want to perform more operation? Y/Nn\n"
          ]
        }
      ]
    },
    {
      "cell_type": "markdown",
      "metadata": {
        "id": "_-PGHFcPXJgC"
      },
      "source": [
        ""
      ]
    },
    {
      "cell_type": "code",
      "metadata": {
        "id": "n3kKb1VpXJgD"
      },
      "source": [
        ""
      ],
      "execution_count": 11,
      "outputs": []
    }
  ]
}